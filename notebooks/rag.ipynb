{
 "cells": [
  {
   "cell_type": "code",
   "execution_count": 4,
   "id": "initial_id",
   "metadata": {
    "collapsed": true,
    "ExecuteTime": {
     "end_time": "2024-04-11T14:02:03.588602600Z",
     "start_time": "2024-04-11T14:02:03.582529800Z"
    }
   },
   "outputs": [],
   "source": [
    "import os\n",
    "\n",
    "if \"notebooks\" in os.getcwd():\n",
    "    # Change the current working directory\n",
    "    os.chdir(\"..\")"
   ]
  },
  {
   "cell_type": "markdown",
   "source": [
    "### Test RAG"
   ],
   "metadata": {
    "collapsed": false
   },
   "id": "3a8061c40d6b12e2"
  },
  {
   "cell_type": "code",
   "execution_count": 2,
   "outputs": [],
   "source": [
    "from modules.mongo_vector_storage import MongoVectorStorage\n",
    "from random import random\n",
    "from datetime import datetime\n",
    "\n",
    "def generate_random_vector(length):\n",
    "    return [random() for _ in range(length)]\n",
    "\n",
    "def insert_sample_data(storage, num_documents=10):\n",
    "    for i in range(num_documents):\n",
    "        storage.insert_document(\n",
    "            username=f\"user_{i % 3}\",  # Creates 3 different users\n",
    "            text=f\"Sample text {i}\",\n",
    "            vector=generate_random_vector(4),\n",
    "            date=datetime.now()\n",
    "        )\n",
    "    print(f\"Inserted {num_documents} documents into the collection.\")\n",
    "\n",
    "def test_vector_search(storage, username, query_vector):\n",
    "    results = storage.vector_search(username=username, query_vector=query_vector, num_candidates=5, limit=3)\n",
    "    print(f\"Vector search results for '{username}':\")\n",
    "    for result in results:\n",
    "        print(result)"
   ],
   "metadata": {
    "collapsed": false,
    "ExecuteTime": {
     "end_time": "2024-04-11T14:01:46.360490500Z",
     "start_time": "2024-04-11T14:01:42.776781100Z"
    }
   },
   "id": "c530dd29ff2e557"
  },
  {
   "cell_type": "code",
   "execution_count": 3,
   "outputs": [
    {
     "name": "stderr",
     "output_type": "stream",
     "text": [
      "WARNING - docarray - Index file does not exist: C:\\Users\\dani_cosmosthrace\\Documents\\JournAI\\vectordb\\InMemoryExactNNIndexer[TextDoc][TextDocWithMatchesAndScores]/index.bin. Initializing empty InMemoryExactNNIndex.\n"
     ]
    },
    {
     "name": "stdout",
     "output_type": "stream",
     "text": [
      "Inserted 10 documents into the collection.\n",
      "Vector search results for 'user_1':\n"
     ]
    },
    {
     "data": {
      "text/plain": "",
      "text/html": "<pre style=\"white-space:pre;overflow-x:auto;line-height:normal;font-family:Menlo,'DejaVu Sans Mono',consolas,'Courier New',monospace\"></pre>\n"
     },
     "metadata": {},
     "output_type": "display_data"
    },
    {
     "name": "stdout",
     "output_type": "stream",
     "text": [
      "\u001B[1;35mTextDoc\u001B[0m\u001B[1m(\u001B[0m\n",
      "    \u001B[33mid\u001B[0m=\u001B[32m'52af966ac18956ff3879a1421302fec9'\u001B[0m,\n",
      "    \u001B[33mdate\u001B[0m=\u001B[1;35mdatetime\u001B[0m\u001B[1;35m.datetime\u001B[0m\u001B[1m(\u001B[0m\u001B[1;36m2024\u001B[0m, \u001B[1;36m4\u001B[0m, \u001B[1;36m11\u001B[0m, \u001B[1;36m17\u001B[0m, \u001B[1;36m1\u001B[0m, \u001B[1;36m43\u001B[0m, \u001B[1;36m655558\u001B[0m\u001B[1m)\u001B[0m,\n",
      "    \u001B[33mtext\u001B[0m=\u001B[32m'Sample text 4'\u001B[0m,\n",
      "    \u001B[33musername\u001B[0m=\u001B[32m'user_1'\u001B[0m,\n",
      "    \u001B[33membedding\u001B[0m=\u001B[1;35mNdArray\u001B[0m\u001B[1m(\u001B[0m\u001B[1m[\u001B[0m\u001B[1;36m0.82970897\u001B[0m, \u001B[1;36m0.29583701\u001B[0m, \u001B[1;36m0.99884507\u001B[0m, \u001B[1;36m0.0799872\u001B[0m \u001B[1m]\u001B[0m\u001B[1m)\u001B[0m\n",
      "\u001B[1m)\u001B[0m\n"
     ]
    }
   ],
   "source": [
    "db_url = 'mongodb://localhost:27017/'\n",
    "db_name = 'myDatabase'\n",
    "collection_name = 'myCollection'\n",
    "\n",
    "storage = MongoVectorStorage(db_url, db_name, collection_name)\n",
    "\n",
    "# Insert sample data\n",
    "insert_sample_data(storage, 10)\n",
    "\n",
    "# Test vector search with a random query vector for \"user_1\"\n",
    "test_vector_search(storage, \"user_1\", generate_random_vector(4))"
   ],
   "metadata": {
    "collapsed": false,
    "ExecuteTime": {
     "end_time": "2024-04-11T14:01:46.361490400Z",
     "start_time": "2024-04-11T14:01:43.639772400Z"
    }
   },
   "id": "ad6524336f9bdebc"
  }
 ],
 "metadata": {
  "kernelspec": {
   "display_name": "Python 3",
   "language": "python",
   "name": "python3"
  },
  "language_info": {
   "codemirror_mode": {
    "name": "ipython",
    "version": 2
   },
   "file_extension": ".py",
   "mimetype": "text/x-python",
   "name": "python",
   "nbconvert_exporter": "python",
   "pygments_lexer": "ipython2",
   "version": "2.7.6"
  }
 },
 "nbformat": 4,
 "nbformat_minor": 5
}
