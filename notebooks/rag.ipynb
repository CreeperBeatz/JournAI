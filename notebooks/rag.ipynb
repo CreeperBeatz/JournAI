{
 "cells": [
  {
   "cell_type": "code",
   "execution_count": 1,
   "id": "initial_id",
   "metadata": {
    "collapsed": true,
    "ExecuteTime": {
     "end_time": "2024-04-13T18:26:45.249924800Z",
     "start_time": "2024-04-13T18:26:45.244404400Z"
    }
   },
   "outputs": [],
   "source": [
    "import os\n",
    "\n",
    "if \"notebooks\" in os.getcwd():\n",
    "    # Change the current working directory\n",
    "    os.chdir(\"..\")"
   ]
  },
  {
   "cell_type": "markdown",
   "source": [
    "### Test RAG"
   ],
   "metadata": {
    "collapsed": false
   },
   "id": "3a8061c40d6b12e2"
  },
  {
   "cell_type": "code",
   "execution_count": 2,
   "outputs": [],
   "source": [
    "from modules.vector_storage import VectorDBStorage\n",
    "\n",
    "storage = VectorDBStorage()"
   ],
   "metadata": {
    "collapsed": false,
    "ExecuteTime": {
     "end_time": "2024-04-13T18:26:45.640829800Z",
     "start_time": "2024-04-13T18:26:45.251970100Z"
    }
   },
   "id": "3066e2de52bc08ed"
  },
  {
   "cell_type": "markdown",
   "source": [
    "#### Test retrieval by ID"
   ],
   "metadata": {
    "collapsed": false
   },
   "id": "afd9bc1445ce1b33"
  },
  {
   "cell_type": "code",
   "execution_count": 3,
   "outputs": [],
   "source": [
    "import numpy as np\n",
    "\n",
    "uuid = \"d231\"\n",
    "\n",
    "storage.insert_document(\"dani\", \"Sample Text2da35\", np.ones(1536), uuid=uuid)"
   ],
   "metadata": {
    "collapsed": false,
    "ExecuteTime": {
     "end_time": "2024-04-13T18:26:45.655738700Z",
     "start_time": "2024-04-13T18:26:45.642303900Z"
    }
   },
   "id": "9b193eeb27eb8d86"
  },
  {
   "cell_type": "code",
   "execution_count": 4,
   "outputs": [
    {
     "data": {
      "text/plain": "",
      "text/html": "<pre style=\"white-space:pre;overflow-x:auto;line-height:normal;font-family:Menlo,'DejaVu Sans Mono',consolas,'Courier New',monospace\"></pre>\n"
     },
     "metadata": {},
     "output_type": "display_data"
    },
    {
     "name": "stdout",
     "output_type": "stream",
     "text": [
      "\u001B[1;35mTextDoc\u001B[0m\u001B[1m(\u001B[0m\n",
      "    \u001B[33mid\u001B[0m=\u001B[32m'377426a1f3e412748463e3a2122f716f'\u001B[0m,\n",
      "    \u001B[33muuid\u001B[0m=\u001B[32m'd23'\u001B[0m,\n",
      "    \u001B[33mdate\u001B[0m=\u001B[32m'2024-04-13'\u001B[0m,\n",
      "    \u001B[33mtext\u001B[0m=\u001B[32m'Sample Text235'\u001B[0m,\n",
      "    \u001B[33musername\u001B[0m=\u001B[32m'dani'\u001B[0m,\n",
      "    \u001B[33membedding\u001B[0m=\u001B[1;35mNdArrayEmbedding\u001B[0m\u001B[1m(\u001B[0m\u001B[1m[\u001B[0m\u001B[1;36m0.19953482\u001B[0m, \u001B[1;36m0.19048339\u001B[0m, \u001B[1;36m0.35921818\u001B[0m, \u001B[33m...\u001B[0m, \u001B[1;36m0.27977732\u001B[0m,\n",
      "                  \u001B[1;36m0.02844954\u001B[0m, \u001B[1;36m0.49592212\u001B[0m\u001B[1m]\u001B[0m, \u001B[33mdtype\u001B[0m=\u001B[35mfloat32\u001B[0m\u001B[1m)\u001B[0m\n",
      "\u001B[1m)\u001B[0m\n"
     ]
    }
   ],
   "source": [
    "result = storage.search_by_uuid(\"d23\")\n",
    "print(result)"
   ],
   "metadata": {
    "collapsed": false,
    "ExecuteTime": {
     "end_time": "2024-04-13T18:26:45.670540100Z",
     "start_time": "2024-04-13T18:26:45.657369900Z"
    }
   },
   "id": "c72309a9dcaf8c88"
  },
  {
   "cell_type": "markdown",
   "source": [
    "#### Search by similarity"
   ],
   "metadata": {
    "collapsed": false
   },
   "id": "e8ea4a5f960026a3"
  },
  {
   "cell_type": "code",
   "execution_count": 5,
   "outputs": [
    {
     "ename": "ValueError",
     "evalue": "Invalid query",
     "output_type": "error",
     "traceback": [
      "\u001B[1;31m---------------------------------------------------------------------------\u001B[0m",
      "\u001B[1;31mValueError\u001B[0m                                Traceback (most recent call last)",
      "Cell \u001B[1;32mIn[5], line 3\u001B[0m\n\u001B[0;32m      1\u001B[0m \u001B[38;5;28;01mimport\u001B[39;00m \u001B[38;5;21;01mnumpy\u001B[39;00m \u001B[38;5;28;01mas\u001B[39;00m \u001B[38;5;21;01mnp\u001B[39;00m\n\u001B[1;32m----> 3\u001B[0m result, similarities \u001B[38;5;241m=\u001B[39m \u001B[43mstorage\u001B[49m\u001B[38;5;241;43m.\u001B[39;49m\u001B[43msearch_similar\u001B[49m\u001B[43m(\u001B[49m\u001B[38;5;124;43m\"\u001B[39;49m\u001B[38;5;124;43mdani\u001B[39;49m\u001B[38;5;124;43m\"\u001B[39;49m\u001B[43m,\u001B[49m\u001B[43m \u001B[49m\u001B[43mquery_embedding\u001B[49m\u001B[38;5;241;43m=\u001B[39;49m\u001B[43mnp\u001B[49m\u001B[38;5;241;43m.\u001B[39;49m\u001B[43mones\u001B[49m\u001B[43m(\u001B[49m\u001B[38;5;241;43m1536\u001B[39;49m\u001B[43m)\u001B[49m\u001B[43m,\u001B[49m\u001B[43m \u001B[49m\u001B[43momit_uuid\u001B[49m\u001B[38;5;241;43m=\u001B[39;49m\u001B[38;5;124;43m\"\u001B[39;49m\u001B[38;5;124;43md231\u001B[39;49m\u001B[38;5;124;43m\"\u001B[39;49m\u001B[43m)\u001B[49m\n\u001B[0;32m      4\u001B[0m \u001B[38;5;28mprint\u001B[39m(result)\n",
      "File \u001B[1;32m~\\Documents\\JournAI\\modules\\vector_storage.py:85\u001B[0m, in \u001B[0;36mVectorDBStorage.search_similar\u001B[1;34m(self, username, query_embedding, omit_uuid, limit)\u001B[0m\n\u001B[0;32m     61\u001B[0m \u001B[38;5;250m\u001B[39m\u001B[38;5;124;03m\"\"\"\u001B[39;00m\n\u001B[0;32m     62\u001B[0m \u001B[38;5;124;03mSearch for documents with vectors similar to the given query vector,\u001B[39;00m\n\u001B[0;32m     63\u001B[0m \u001B[38;5;124;03mfiltered by the specified username.\u001B[39;00m\n\u001B[1;32m   (...)\u001B[0m\n\u001B[0;32m     75\u001B[0m \u001B[38;5;124;03m        for all the documents, where closer to 0 means better similarity\u001B[39;00m\n\u001B[0;32m     76\u001B[0m \u001B[38;5;124;03m\"\"\"\u001B[39;00m\n\u001B[0;32m     77\u001B[0m query \u001B[38;5;241m=\u001B[39m (\n\u001B[0;32m     78\u001B[0m     \u001B[38;5;28mself\u001B[39m\u001B[38;5;241m.\u001B[39mdb\u001B[38;5;241m.\u001B[39mbuild_query()\n\u001B[0;32m     79\u001B[0m     \u001B[38;5;241m.\u001B[39mfilter(filter_query\u001B[38;5;241m=\u001B[39m{\u001B[38;5;124m'\u001B[39m\u001B[38;5;124musername\u001B[39m\u001B[38;5;124m'\u001B[39m: {\u001B[38;5;124m'\u001B[39m\u001B[38;5;124m$eq\u001B[39m\u001B[38;5;124m'\u001B[39m: username}})\n\u001B[1;32m   (...)\u001B[0m\n\u001B[0;32m     82\u001B[0m     \u001B[38;5;241m.\u001B[39mbuild()\n\u001B[0;32m     83\u001B[0m )\n\u001B[1;32m---> 85\u001B[0m \u001B[38;5;28;01mreturn\u001B[39;00m \u001B[38;5;28;43mself\u001B[39;49m\u001B[38;5;241;43m.\u001B[39;49m\u001B[43mdb\u001B[49m\u001B[38;5;241;43m.\u001B[39;49m\u001B[43mexecute_query\u001B[49m\u001B[43m(\u001B[49m\u001B[43mquery\u001B[49m\u001B[43m)\u001B[49m\n",
      "File \u001B[1;32m~\\Documents\\JournAI\\.venv\\Scripts\\streamlit.exr\\Lib\\site-packages\\docarray\\index\\backends\\hnswlib.py:312\u001B[0m, in \u001B[0;36mHnswDocumentIndex.execute_query\u001B[1;34m(self, query, *args, **kwargs)\u001B[0m\n\u001B[0;32m    307\u001B[0m \u001B[38;5;28;01mif\u001B[39;00m args \u001B[38;5;129;01mor\u001B[39;00m kwargs:\n\u001B[0;32m    308\u001B[0m     \u001B[38;5;28;01mraise\u001B[39;00m \u001B[38;5;167;01mValueError\u001B[39;00m(\n\u001B[0;32m    309\u001B[0m         \u001B[38;5;124mf\u001B[39m\u001B[38;5;124m'\u001B[39m\u001B[38;5;124margs and kwargs not supported for `execute_query` on \u001B[39m\u001B[38;5;132;01m{\u001B[39;00m\u001B[38;5;28mtype\u001B[39m(\u001B[38;5;28mself\u001B[39m)\u001B[38;5;132;01m}\u001B[39;00m\u001B[38;5;124m'\u001B[39m\n\u001B[0;32m    310\u001B[0m     )\n\u001B[1;32m--> 312\u001B[0m \u001B[38;5;28;01mreturn\u001B[39;00m \u001B[38;5;28;43mself\u001B[39;49m\u001B[38;5;241;43m.\u001B[39;49m\u001B[43m_execute_find_and_filter_query\u001B[49m\u001B[43m(\u001B[49m\u001B[43mquery\u001B[49m\u001B[43m)\u001B[49m\n",
      "File \u001B[1;32m~\\Documents\\JournAI\\.venv\\Scripts\\streamlit.exr\\Lib\\site-packages\\docarray\\index\\backends\\hnswlib.py:786\u001B[0m, in \u001B[0;36mHnswDocumentIndex._execute_find_and_filter_query\u001B[1;34m(self, query)\u001B[0m\n\u001B[0;32m    784\u001B[0m hashed_ids: Optional[Set[\u001B[38;5;28mstr\u001B[39m]] \u001B[38;5;241m=\u001B[39m \u001B[38;5;28;01mNone\u001B[39;00m\n\u001B[0;32m    785\u001B[0m \u001B[38;5;28;01mif\u001B[39;00m pre_filters:\n\u001B[1;32m--> 786\u001B[0m     hashed_ids \u001B[38;5;241m=\u001B[39m \u001B[38;5;28;43mself\u001B[39;49m\u001B[38;5;241;43m.\u001B[39;49m\u001B[43m_pre_filtering\u001B[49m\u001B[43m(\u001B[49m\u001B[43mpre_filters\u001B[49m\u001B[43m,\u001B[49m\u001B[43m \u001B[49m\u001B[43mpre_filter_limit\u001B[49m\u001B[43m)\u001B[49m\n\u001B[0;32m    788\u001B[0m query_vector \u001B[38;5;241m=\u001B[39m \u001B[38;5;28mself\u001B[39m\u001B[38;5;241m.\u001B[39m_get_vector_for_query_builder(op_kwargs)\n\u001B[0;32m    789\u001B[0m \u001B[38;5;66;03m# Perform search and filter if hashed_ids returned by pre-filtering is not empty\u001B[39;00m\n",
      "File \u001B[1;32m~\\Documents\\JournAI\\.venv\\Scripts\\streamlit.exr\\Lib\\site-packages\\docarray\\index\\backends\\hnswlib.py:853\u001B[0m, in \u001B[0;36mHnswDocumentIndex._pre_filtering\u001B[1;34m(self, pre_filters, pre_filter_limit)\u001B[0m\n\u001B[0;32m    843\u001B[0m \u001B[38;5;28;01mdef\u001B[39;00m \u001B[38;5;21m_pre_filtering\u001B[39m(\n\u001B[0;32m    844\u001B[0m     \u001B[38;5;28mself\u001B[39m, pre_filters: Dict[\u001B[38;5;28mstr\u001B[39m, Dict], pre_filter_limit: \u001B[38;5;28mint\u001B[39m\n\u001B[0;32m    845\u001B[0m ) \u001B[38;5;241m-\u001B[39m\u001B[38;5;241m>\u001B[39m Set[\u001B[38;5;28mstr\u001B[39m]:\n\u001B[0;32m    846\u001B[0m \u001B[38;5;250m    \u001B[39m\u001B[38;5;124;03m\"\"\"\u001B[39;00m\n\u001B[0;32m    847\u001B[0m \u001B[38;5;124;03m    Performs pre-filtering on the data.\u001B[39;00m\n\u001B[0;32m    848\u001B[0m \n\u001B[1;32m   (...)\u001B[0m\n\u001B[0;32m    851\u001B[0m \u001B[38;5;124;03m    :return: A set of hashed IDs from the filtered rows.\u001B[39;00m\n\u001B[0;32m    852\u001B[0m \u001B[38;5;124;03m    \"\"\"\u001B[39;00m\n\u001B[1;32m--> 853\u001B[0m     rows \u001B[38;5;241m=\u001B[39m \u001B[38;5;28;43mself\u001B[39;49m\u001B[38;5;241;43m.\u001B[39;49m\u001B[43m_execute_filter\u001B[49m\u001B[43m(\u001B[49m\u001B[43mfilter_query\u001B[49m\u001B[38;5;241;43m=\u001B[39;49m\u001B[43mpre_filters\u001B[49m\u001B[43m,\u001B[49m\u001B[43m \u001B[49m\u001B[43mlimit\u001B[49m\u001B[38;5;241;43m=\u001B[39;49m\u001B[43mpre_filter_limit\u001B[49m\u001B[43m)\u001B[49m\n\u001B[0;32m    854\u001B[0m     \u001B[38;5;28;01mreturn\u001B[39;00m \u001B[38;5;28mset\u001B[39m(hashed_id \u001B[38;5;28;01mfor\u001B[39;00m hashed_id, _ \u001B[38;5;129;01min\u001B[39;00m rows)\n",
      "File \u001B[1;32m~\\Documents\\JournAI\\.venv\\Scripts\\streamlit.exr\\Lib\\site-packages\\docarray\\index\\backends\\hnswlib.py:753\u001B[0m, in \u001B[0;36mHnswDocumentIndex._execute_filter\u001B[1;34m(self, filter_query, limit)\u001B[0m\n\u001B[0;32m    745\u001B[0m \u001B[38;5;250m\u001B[39m\u001B[38;5;124;03m\"\"\"\u001B[39;00m\n\u001B[0;32m    746\u001B[0m \u001B[38;5;124;03mExecutes a filter query on the database.\u001B[39;00m\n\u001B[0;32m    747\u001B[0m \n\u001B[1;32m   (...)\u001B[0m\n\u001B[0;32m    750\u001B[0m \u001B[38;5;124;03m:return: A list of rows fetched from the database.\u001B[39;00m\n\u001B[0;32m    751\u001B[0m \u001B[38;5;124;03m\"\"\"\u001B[39;00m\n\u001B[0;32m    752\u001B[0m param_values: List[Any] \u001B[38;5;241m=\u001B[39m []\n\u001B[1;32m--> 753\u001B[0m sql_query \u001B[38;5;241m=\u001B[39m \u001B[38;5;28;43mself\u001B[39;49m\u001B[38;5;241;43m.\u001B[39;49m\u001B[43m_build_filter_query\u001B[49m\u001B[43m(\u001B[49m\u001B[43mfilter_query\u001B[49m\u001B[43m,\u001B[49m\u001B[43m \u001B[49m\u001B[43mparam_values\u001B[49m\u001B[43m)\u001B[49m\n\u001B[0;32m    754\u001B[0m sql_query \u001B[38;5;241m=\u001B[39m \u001B[38;5;124mf\u001B[39m\u001B[38;5;124m'\u001B[39m\u001B[38;5;124mSELECT doc_id, data FROM docs WHERE \u001B[39m\u001B[38;5;132;01m{\u001B[39;00msql_query\u001B[38;5;132;01m}\u001B[39;00m\u001B[38;5;124m LIMIT \u001B[39m\u001B[38;5;132;01m{\u001B[39;00mlimit\u001B[38;5;132;01m}\u001B[39;00m\u001B[38;5;124m'\u001B[39m\n\u001B[0;32m    755\u001B[0m \u001B[38;5;28;01mreturn\u001B[39;00m \u001B[38;5;28mself\u001B[39m\u001B[38;5;241m.\u001B[39m_sqlite_cursor\u001B[38;5;241m.\u001B[39mexecute(sql_query, param_values)\u001B[38;5;241m.\u001B[39mfetchall()\n",
      "File \u001B[1;32m~\\Documents\\JournAI\\.venv\\Scripts\\streamlit.exr\\Lib\\site-packages\\docarray\\index\\backends\\hnswlib.py:714\u001B[0m, in \u001B[0;36mHnswDocumentIndex._build_filter_query\u001B[1;34m(cls, query, param_values)\u001B[0m\n\u001B[0;32m    710\u001B[0m key, value \u001B[38;5;241m=\u001B[39m \u001B[38;5;28mnext\u001B[39m(\u001B[38;5;28miter\u001B[39m(query\u001B[38;5;241m.\u001B[39mitems()))\n\u001B[0;32m    712\u001B[0m \u001B[38;5;28;01mif\u001B[39;00m key \u001B[38;5;129;01min\u001B[39;00m [\u001B[38;5;124m'\u001B[39m\u001B[38;5;124m$and\u001B[39m\u001B[38;5;124m'\u001B[39m, \u001B[38;5;124m'\u001B[39m\u001B[38;5;124m$or\u001B[39m\u001B[38;5;124m'\u001B[39m]:\n\u001B[0;32m    713\u001B[0m     \u001B[38;5;66;03m# Combine subqueries using the AND or OR operator\u001B[39;00m\n\u001B[1;32m--> 714\u001B[0m     subqueries \u001B[38;5;241m=\u001B[39m \u001B[43m[\u001B[49m\u001B[38;5;28;43mcls\u001B[39;49m\u001B[38;5;241;43m.\u001B[39;49m\u001B[43m_build_filter_query\u001B[49m\u001B[43m(\u001B[49m\u001B[43mq\u001B[49m\u001B[43m,\u001B[49m\u001B[43m \u001B[49m\u001B[43mparam_values\u001B[49m\u001B[43m)\u001B[49m\u001B[43m \u001B[49m\u001B[38;5;28;43;01mfor\u001B[39;49;00m\u001B[43m \u001B[49m\u001B[43mq\u001B[49m\u001B[43m \u001B[49m\u001B[38;5;129;43;01min\u001B[39;49;00m\u001B[43m \u001B[49m\u001B[43mvalue\u001B[49m\u001B[43m]\u001B[49m\n\u001B[0;32m    715\u001B[0m     \u001B[38;5;28;01mreturn\u001B[39;00m \u001B[38;5;124mf\u001B[39m\u001B[38;5;124m'\u001B[39m\u001B[38;5;124m(\u001B[39m\u001B[38;5;132;01m{\u001B[39;00m\u001B[38;5;124mf\u001B[39m\u001B[38;5;124m\"\u001B[39m\u001B[38;5;124m \u001B[39m\u001B[38;5;132;01m{\u001B[39;00mkey[\u001B[38;5;241m1\u001B[39m:]\u001B[38;5;241m.\u001B[39mupper()\u001B[38;5;132;01m}\u001B[39;00m\u001B[38;5;124m \u001B[39m\u001B[38;5;124m\"\u001B[39m\u001B[38;5;241m.\u001B[39mjoin(subqueries)\u001B[38;5;132;01m}\u001B[39;00m\u001B[38;5;124m)\u001B[39m\u001B[38;5;124m'\u001B[39m\n\u001B[0;32m    716\u001B[0m \u001B[38;5;28;01melif\u001B[39;00m key \u001B[38;5;241m==\u001B[39m \u001B[38;5;124m'\u001B[39m\u001B[38;5;124m$not\u001B[39m\u001B[38;5;124m'\u001B[39m:\n\u001B[0;32m    717\u001B[0m     \u001B[38;5;66;03m# Negate the query\u001B[39;00m\n",
      "File \u001B[1;32m~\\Documents\\JournAI\\.venv\\Scripts\\streamlit.exr\\Lib\\site-packages\\docarray\\index\\backends\\hnswlib.py:714\u001B[0m, in \u001B[0;36m<listcomp>\u001B[1;34m(.0)\u001B[0m\n\u001B[0;32m    710\u001B[0m key, value \u001B[38;5;241m=\u001B[39m \u001B[38;5;28mnext\u001B[39m(\u001B[38;5;28miter\u001B[39m(query\u001B[38;5;241m.\u001B[39mitems()))\n\u001B[0;32m    712\u001B[0m \u001B[38;5;28;01mif\u001B[39;00m key \u001B[38;5;129;01min\u001B[39;00m [\u001B[38;5;124m'\u001B[39m\u001B[38;5;124m$and\u001B[39m\u001B[38;5;124m'\u001B[39m, \u001B[38;5;124m'\u001B[39m\u001B[38;5;124m$or\u001B[39m\u001B[38;5;124m'\u001B[39m]:\n\u001B[0;32m    713\u001B[0m     \u001B[38;5;66;03m# Combine subqueries using the AND or OR operator\u001B[39;00m\n\u001B[1;32m--> 714\u001B[0m     subqueries \u001B[38;5;241m=\u001B[39m [\u001B[38;5;28;43mcls\u001B[39;49m\u001B[38;5;241;43m.\u001B[39;49m\u001B[43m_build_filter_query\u001B[49m\u001B[43m(\u001B[49m\u001B[43mq\u001B[49m\u001B[43m,\u001B[49m\u001B[43m \u001B[49m\u001B[43mparam_values\u001B[49m\u001B[43m)\u001B[49m \u001B[38;5;28;01mfor\u001B[39;00m q \u001B[38;5;129;01min\u001B[39;00m value]\n\u001B[0;32m    715\u001B[0m     \u001B[38;5;28;01mreturn\u001B[39;00m \u001B[38;5;124mf\u001B[39m\u001B[38;5;124m'\u001B[39m\u001B[38;5;124m(\u001B[39m\u001B[38;5;132;01m{\u001B[39;00m\u001B[38;5;124mf\u001B[39m\u001B[38;5;124m\"\u001B[39m\u001B[38;5;124m \u001B[39m\u001B[38;5;132;01m{\u001B[39;00mkey[\u001B[38;5;241m1\u001B[39m:]\u001B[38;5;241m.\u001B[39mupper()\u001B[38;5;132;01m}\u001B[39;00m\u001B[38;5;124m \u001B[39m\u001B[38;5;124m\"\u001B[39m\u001B[38;5;241m.\u001B[39mjoin(subqueries)\u001B[38;5;132;01m}\u001B[39;00m\u001B[38;5;124m)\u001B[39m\u001B[38;5;124m'\u001B[39m\n\u001B[0;32m    716\u001B[0m \u001B[38;5;28;01melif\u001B[39;00m key \u001B[38;5;241m==\u001B[39m \u001B[38;5;124m'\u001B[39m\u001B[38;5;124m$not\u001B[39m\u001B[38;5;124m'\u001B[39m:\n\u001B[0;32m    717\u001B[0m     \u001B[38;5;66;03m# Negate the query\u001B[39;00m\n",
      "File \u001B[1;32m~\\Documents\\JournAI\\.venv\\Scripts\\streamlit.exr\\Lib\\site-packages\\docarray\\index\\backends\\hnswlib.py:705\u001B[0m, in \u001B[0;36mHnswDocumentIndex._build_filter_query\u001B[1;34m(cls, query, param_values)\u001B[0m\n\u001B[0;32m    697\u001B[0m \u001B[38;5;250m\u001B[39m\u001B[38;5;124;03m\"\"\"\u001B[39;00m\n\u001B[0;32m    698\u001B[0m \u001B[38;5;124;03mBuilds a filter query for database operations.\u001B[39;00m\n\u001B[0;32m    699\u001B[0m \n\u001B[1;32m   (...)\u001B[0m\n\u001B[0;32m    702\u001B[0m \u001B[38;5;124;03m:return: A string representing a SQL filter query.\u001B[39;00m\n\u001B[0;32m    703\u001B[0m \u001B[38;5;124;03m\"\"\"\u001B[39;00m\n\u001B[0;32m    704\u001B[0m \u001B[38;5;28;01mif\u001B[39;00m \u001B[38;5;129;01mnot\u001B[39;00m \u001B[38;5;28misinstance\u001B[39m(query, \u001B[38;5;28mdict\u001B[39m):\n\u001B[1;32m--> 705\u001B[0m     \u001B[38;5;28;01mraise\u001B[39;00m \u001B[38;5;167;01mValueError\u001B[39;00m(\u001B[38;5;124m'\u001B[39m\u001B[38;5;124mInvalid query\u001B[39m\u001B[38;5;124m'\u001B[39m)\n\u001B[0;32m    707\u001B[0m \u001B[38;5;28;01mif\u001B[39;00m \u001B[38;5;28mlen\u001B[39m(query) \u001B[38;5;241m!=\u001B[39m \u001B[38;5;241m1\u001B[39m:\n\u001B[0;32m    708\u001B[0m     \u001B[38;5;28;01mraise\u001B[39;00m \u001B[38;5;167;01mValueError\u001B[39;00m(\u001B[38;5;124m'\u001B[39m\u001B[38;5;124mEach nested dict must have exactly one key\u001B[39m\u001B[38;5;124m'\u001B[39m)\n",
      "\u001B[1;31mValueError\u001B[0m: Invalid query"
     ]
    }
   ],
   "source": [
    "import numpy as np\n",
    "\n",
    "result, similarities = storage.search_similar(\"dani\", query_embedding=np.ones(1536), omit_uuid=\"d231\")\n",
    "print(result)"
   ],
   "metadata": {
    "collapsed": false,
    "ExecuteTime": {
     "end_time": "2024-04-13T18:26:46.009368400Z",
     "start_time": "2024-04-13T18:26:45.670540100Z"
    }
   },
   "id": "e455663dcb89f306"
  },
  {
   "cell_type": "code",
   "execution_count": null,
   "outputs": [],
   "source": [],
   "metadata": {
    "collapsed": false,
    "ExecuteTime": {
     "end_time": "2024-04-13T18:26:46.010379800Z",
     "start_time": "2024-04-13T18:26:46.010379800Z"
    }
   },
   "id": "a47720208f65e452"
  }
 ],
 "metadata": {
  "kernelspec": {
   "display_name": "Python 3",
   "language": "python",
   "name": "python3"
  },
  "language_info": {
   "codemirror_mode": {
    "name": "ipython",
    "version": 2
   },
   "file_extension": ".py",
   "mimetype": "text/x-python",
   "name": "python",
   "nbconvert_exporter": "python",
   "pygments_lexer": "ipython2",
   "version": "2.7.6"
  }
 },
 "nbformat": 4,
 "nbformat_minor": 5
}
