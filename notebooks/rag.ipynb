{
 "cells": [
  {
   "cell_type": "code",
   "execution_count": 1,
   "id": "initial_id",
   "metadata": {
    "collapsed": true,
    "ExecuteTime": {
     "end_time": "2024-04-13T08:58:46.987679300Z",
     "start_time": "2024-04-13T08:58:46.979729400Z"
    }
   },
   "outputs": [],
   "source": [
    "import os\n",
    "\n",
    "if \"notebooks\" in os.getcwd():\n",
    "    # Change the current working directory\n",
    "    os.chdir(\"..\")"
   ]
  },
  {
   "cell_type": "markdown",
   "source": [
    "### Test RAG"
   ],
   "metadata": {
    "collapsed": false
   },
   "id": "3a8061c40d6b12e2"
  },
  {
   "cell_type": "code",
   "execution_count": 2,
   "outputs": [
    {
     "name": "stderr",
     "output_type": "stream",
     "text": [
      "WARNING - docarray - Index file does not exist: C:\\vectordb\\InMemoryExactNNIndexer[TextDoc][TextDocWithMatchesAndScores]/index.bin. Initializing empty InMemoryExactNNIndex.\n"
     ]
    }
   ],
   "source": [
    "from modules.vector_storage import VectorDBStorage\n",
    "\n",
    "storage = VectorDBStorage()"
   ],
   "metadata": {
    "collapsed": false,
    "ExecuteTime": {
     "end_time": "2024-04-13T08:58:49.216499500Z",
     "start_time": "2024-04-13T08:58:48.477592800Z"
    }
   },
   "id": "3066e2de52bc08ed"
  },
  {
   "cell_type": "markdown",
   "source": [
    "#### Test retrieval by ID"
   ],
   "metadata": {
    "collapsed": false
   },
   "id": "afd9bc1445ce1b33"
  },
  {
   "cell_type": "code",
   "execution_count": 5,
   "outputs": [
    {
     "data": {
      "text/plain": "True"
     },
     "execution_count": 5,
     "metadata": {},
     "output_type": "execute_result"
    }
   ],
   "source": [
    "uuid = \"d23\"\n",
    "\n",
    "storage.insert_document(\"dani\", \"Sample Text23\", [0.234, 0.23, 0.42], info_id=uuid)"
   ],
   "metadata": {
    "collapsed": false,
    "ExecuteTime": {
     "end_time": "2024-04-13T08:59:20.040939800Z",
     "start_time": "2024-04-13T08:59:20.029509700Z"
    }
   },
   "id": "9b193eeb27eb8d86"
  },
  {
   "cell_type": "code",
   "execution_count": 6,
   "outputs": [
    {
     "data": {
      "text/plain": "",
      "text/html": "<pre style=\"white-space:pre;overflow-x:auto;line-height:normal;font-family:Menlo,'DejaVu Sans Mono',consolas,'Courier New',monospace\"></pre>\n"
     },
     "metadata": {},
     "output_type": "display_data"
    },
    {
     "name": "stdout",
     "output_type": "stream",
     "text": [
      "\u001B[1;35mTextDoc\u001B[0m\u001B[1m(\u001B[0m\n",
      "    \u001B[33mid\u001B[0m=\u001B[32m'd23'\u001B[0m,\n",
      "    \u001B[33muuid\u001B[0m=\u001B[3;35mNone\u001B[0m,\n",
      "    \u001B[33mdate\u001B[0m=\u001B[1;35mdatetime\u001B[0m\u001B[1;35m.datetime\u001B[0m\u001B[1m(\u001B[0m\u001B[1;36m2024\u001B[0m, \u001B[1;36m4\u001B[0m, \u001B[1;36m13\u001B[0m, \u001B[1;36m11\u001B[0m, \u001B[1;36m59\u001B[0m, \u001B[1;36m20\u001B[0m, \u001B[1;36m30564\u001B[0m\u001B[1m)\u001B[0m,\n",
      "    \u001B[33mtext\u001B[0m=\u001B[32m'Sample Text23'\u001B[0m,\n",
      "    \u001B[33musername\u001B[0m=\u001B[32m'dani'\u001B[0m,\n",
      "    \u001B[33membedding\u001B[0m=\u001B[1;35mNdArray\u001B[0m\u001B[1m(\u001B[0m\u001B[1m[\u001B[0m\u001B[1;36m0.234\u001B[0m, \u001B[1;36m0.23\u001B[0m , \u001B[1;36m0.42\u001B[0m \u001B[1m]\u001B[0m\u001B[1m)\u001B[0m\n",
      "\u001B[1m)\u001B[0m\n"
     ]
    }
   ],
   "source": [
    "result = storage.search_by_id(\"d23\")\n",
    "print(result)"
   ],
   "metadata": {
    "collapsed": false,
    "ExecuteTime": {
     "end_time": "2024-04-13T08:59:20.548214700Z",
     "start_time": "2024-04-13T08:59:20.538510Z"
    }
   },
   "id": "c72309a9dcaf8c88"
  },
  {
   "cell_type": "code",
   "execution_count": 4,
   "outputs": [],
   "source": [],
   "metadata": {
    "collapsed": false,
    "ExecuteTime": {
     "end_time": "2024-04-13T08:57:55.336949800Z",
     "start_time": "2024-04-13T08:57:55.331879500Z"
    }
   },
   "id": "9b40adf6c967e8f6"
  }
 ],
 "metadata": {
  "kernelspec": {
   "display_name": "Python 3",
   "language": "python",
   "name": "python3"
  },
  "language_info": {
   "codemirror_mode": {
    "name": "ipython",
    "version": 2
   },
   "file_extension": ".py",
   "mimetype": "text/x-python",
   "name": "python",
   "nbconvert_exporter": "python",
   "pygments_lexer": "ipython2",
   "version": "2.7.6"
  }
 },
 "nbformat": 4,
 "nbformat_minor": 5
}
