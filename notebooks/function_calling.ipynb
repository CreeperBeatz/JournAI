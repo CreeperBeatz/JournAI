{
 "cells": [
  {
   "cell_type": "code",
   "execution_count": 5,
   "id": "initial_id",
   "metadata": {
    "collapsed": true,
    "ExecuteTime": {
     "end_time": "2024-04-03T06:16:27.956604400Z",
     "start_time": "2024-04-03T06:16:27.939726400Z"
    }
   },
   "outputs": [],
   "source": [
    "import os\n",
    "\n",
    "if \"notebooks\" in os.getcwd():\n",
    "    # Change the current working directory\n",
    "    os.chdir(\"..\")"
   ]
  },
  {
   "cell_type": "markdown",
   "source": [
    "### Test Function Calling"
   ],
   "metadata": {
    "collapsed": false
   },
   "id": "f07fd8a7f8d03cb2"
  },
  {
   "cell_type": "markdown",
   "source": [],
   "metadata": {
    "collapsed": false
   },
   "id": "c5126fcf4d6eb075"
  },
  {
   "cell_type": "code",
   "execution_count": 6,
   "outputs": [
    {
     "name": "stdout",
     "output_type": "stream",
     "text": [
      "got here\n",
      "ChatCompletionMessage(content=None, role='assistant', function_call=FunctionCall(arguments='{\"questions\":[\"What made me happy\",\"What made me sad\"]}', name='save_questions'), tool_calls=None)\n"
     ]
    }
   ],
   "source": [
    "import json\n",
    "from openai.types.chat import ChatCompletionMessage\n",
    "from model.conversation import Conversation\n",
    "from modules.chatbot import ChatBot\n",
    "import modules.question_manager as ques_manager\n",
    "\n",
    "save_questions_description = {\n",
    "  \"name\": \"save_questions\",\n",
    "  \"description\": \"Set daily journal questions for the user. The questions can be for a Gratitude journal (What are you grateful for?), self-improvement (what charged you with energy, what drained you of energy, what would you like to do more, what would you like to do less), or anything else the user wants as a goal.\",\n",
    "  \"parameters\": {\n",
    "    \"type\": \"object\",\n",
    "    \"properties\": {\n",
    "      \"questions\": {\n",
    "        \"type\": \"array\",\n",
    "        \"items\": {\n",
    "          \"type\": \"string\"\n",
    "        },\n",
    "        \"description\": \"array of strings, representing the questions the user wants to set as their daily questions\"\n",
    "      }\n",
    "    },\n",
    "    \"required\": [\n",
    "      \"questions\"\n",
    "    ]\n",
    "  }\n",
    "}\n",
    "\n",
    "chatbot = ChatBot(function_descriptions=[save_questions_description])\n",
    "conversation = Conversation(chatbot.system_message)\n",
    "\n",
    "conversation.add_turn(\"user\", \"Can you add the following questions as my daily questions: 1. What made me happy, 2. What made me sad\")\n",
    "\n",
    "response: ChatCompletionMessage = chatbot.chat(conversation)\n",
    "if response.function_call:\n",
    "  if response.function_call.name == \"save_questions\":\n",
    "    questions = json.loads(response.function_call.arguments)['questions']\n",
    "    ques_manager.save_questions(\"test\", questions)\n",
    "    print(\"got here\")\n",
    "print(response)"
   ],
   "metadata": {
    "collapsed": false,
    "ExecuteTime": {
     "end_time": "2024-04-03T06:16:29.120719200Z",
     "start_time": "2024-04-03T06:16:27.954527Z"
    }
   },
   "id": "c705d13efe6588bd"
  },
  {
   "cell_type": "code",
   "execution_count": 6,
   "outputs": [],
   "source": [],
   "metadata": {
    "collapsed": false,
    "ExecuteTime": {
     "end_time": "2024-04-03T06:16:29.150217200Z",
     "start_time": "2024-04-03T06:16:29.121719100Z"
    }
   },
   "id": "34bb1dc60cf1bfa5"
  }
 ],
 "metadata": {
  "kernelspec": {
   "display_name": "Python 3",
   "language": "python",
   "name": "python3"
  },
  "language_info": {
   "codemirror_mode": {
    "name": "ipython",
    "version": 2
   },
   "file_extension": ".py",
   "mimetype": "text/x-python",
   "name": "python",
   "nbconvert_exporter": "python",
   "pygments_lexer": "ipython2",
   "version": "2.7.6"
  }
 },
 "nbformat": 4,
 "nbformat_minor": 5
}
