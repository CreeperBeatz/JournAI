{
 "cells": [
  {
   "cell_type": "code",
   "execution_count": 5,
   "id": "initial_id",
   "metadata": {
    "collapsed": true,
    "ExecuteTime": {
     "end_time": "2024-04-06T07:17:37.444079200Z",
     "start_time": "2024-04-06T07:17:37.425427900Z"
    }
   },
   "outputs": [],
   "source": [
    "import os\n",
    "\n",
    "if \"notebooks\" in os.getcwd():\n",
    "    # Change the current working directory\n",
    "    os.chdir(\"..\")"
   ]
  },
  {
   "cell_type": "markdown",
   "source": [
    "### Test Function Calling"
   ],
   "metadata": {
    "collapsed": false
   },
   "id": "f07fd8a7f8d03cb2"
  },
  {
   "cell_type": "markdown",
   "source": [],
   "metadata": {
    "collapsed": false
   },
   "id": "c5126fcf4d6eb075"
  },
  {
   "cell_type": "code",
   "execution_count": 6,
   "outputs": [
    {
     "name": "stdout",
     "output_type": "stream",
     "text": [
      "got here\n",
      "ChatCompletionMessage(content=None, role='assistant', function_call=FunctionCall(arguments='{\"questions\":[\"What made me happy\",\"What made me sad\"]}', name='save_questions'), tool_calls=None)\n"
     ]
    }
   ],
   "source": [
    "import json\n",
    "from openai.types.chat import ChatCompletionMessage\n",
    "from model.conversation import Conversation\n",
    "from modules.chatbot import ChatBot\n",
    "import modules.question_manager as ques_manager\n",
    "\n",
    "save_questions_description = {\n",
    "  \"name\": \"save_questions\",\n",
    "  \"description\": \"Set daily journal questions for the user. The questions can be for a Gratitude journal (What are you grateful for?), self-improvement (what charged you with energy, what drained you of energy, what would you like to do more, what would you like to do less), or anything else the user wants as a goal.\",\n",
    "  \"parameters\": {\n",
    "    \"type\": \"object\",\n",
    "    \"properties\": {\n",
    "      \"questions\": {\n",
    "        \"type\": \"array\",\n",
    "        \"items\": {\n",
    "          \"type\": \"string\"\n",
    "        },\n",
    "        \"description\": \"array of strings, representing the questions the user wants to set as their daily questions\"\n",
    "      }\n",
    "    },\n",
    "    \"required\": [\n",
    "      \"questions\"\n",
    "    ]\n",
    "  }\n",
    "}\n",
    "\n",
    "chatbot = ChatBot()\n",
    "conversation = Conversation(chatbot.system_message)\n",
    "\n",
    "conversation.add_turn(\"user\", \"Can you add the following questions as my daily questions: 1. What made me happy, 2. What made me sad\")\n",
    "\n",
    "response: ChatCompletionMessage = chatbot.chat(conversation)\n",
    "if response.function_call:\n",
    "  if response.function_call.name == \"save_questions\":\n",
    "    questions = json.loads(response.function_call.arguments)['questions']\n",
    "    ques_manager.save_questions(\"test\", questions)\n",
    "    print(\"got here\")\n",
    "print(response)"
   ],
   "metadata": {
    "collapsed": false,
    "ExecuteTime": {
     "end_time": "2024-04-06T07:17:38.762013500Z",
     "start_time": "2024-04-06T07:17:37.430604700Z"
    }
   },
   "id": "c705d13efe6588bd"
  },
  {
   "cell_type": "markdown",
   "source": [
    "### Make a title"
   ],
   "metadata": {
    "collapsed": false
   },
   "id": "88de90e1fae038db"
  },
  {
   "cell_type": "code",
   "execution_count": 7,
   "outputs": [],
   "source": [
    "multiline_questions = '\\n * '.join(questions)\n",
    "ai_answer = f\"Do you want to save these as your daily questions?\\n * {multiline_questions}\"\n",
    "conversation.add_turn(\"assistant\", ai_answer)\n",
    "conversation.add_turn(\"user\", \"yes\")\n",
    "conversation.add_turn(\n",
    "    \"function\",\n",
    "    \"Successfully saved.\",\n",
    "    \"save_questions\"\n",
    ")"
   ],
   "metadata": {
    "collapsed": false,
    "ExecuteTime": {
     "end_time": "2024-04-06T07:17:38.762013500Z",
     "start_time": "2024-04-06T07:17:38.759872600Z"
    }
   },
   "id": "34bb1dc60cf1bfa5"
  },
  {
   "cell_type": "code",
   "execution_count": 8,
   "outputs": [
    {
     "name": "stdout",
     "output_type": "stream",
     "text": [
      "Daily Questions Saved\n"
     ]
    }
   ],
   "source": [
    "title = chatbot.get_title(conversation)\n",
    "print(title)"
   ],
   "metadata": {
    "collapsed": false,
    "ExecuteTime": {
     "end_time": "2024-04-06T07:17:39.262299400Z",
     "start_time": "2024-04-06T07:17:38.765529600Z"
    }
   },
   "id": "fd07889a2c231dba"
  },
  {
   "cell_type": "markdown",
   "source": [
    "### Make a summary"
   ],
   "metadata": {
    "collapsed": false
   },
   "id": "dc1f4816b101b849"
  },
  {
   "cell_type": "code",
   "execution_count": 8,
   "outputs": [],
   "source": [],
   "metadata": {
    "collapsed": false,
    "ExecuteTime": {
     "end_time": "2024-04-06T07:17:39.263561900Z",
     "start_time": "2024-04-06T07:17:39.256509300Z"
    }
   },
   "id": "f9e65cdea90c01be"
  },
  {
   "cell_type": "markdown",
   "source": [
    "### Function calling conversation standard"
   ],
   "metadata": {
    "collapsed": false
   },
   "id": "27b2746291e8712a"
  },
  {
   "cell_type": "code",
   "execution_count": 13,
   "outputs": [
    {
     "name": "stdout",
     "output_type": "stream",
     "text": [
      "ChatCompletionMessage(content='The questions \"What made me happy\" and \"What made me sad\" have been added to your daily journal questions.', role='assistant', function_call=None, tool_calls=None)\n"
     ]
    }
   ],
   "source": [
    "conversation_list = [\n",
    "  {\n",
    "    \"role\" : \"user\",\n",
    "    \"content\" : \"Can you add the following questions as my daily questions: 1. What made me happy, 2. What made me sad\"\n",
    "  },\n",
    "  {\n",
    "    \"role\" : \"assistant\",\n",
    "    \"function_call\" : {\n",
    "      \"arguments\": '\"questions\":[\"What made me happy\",\"What made me sad\"]',\n",
    "      \"name\": \"save_questions\"\n",
    "    },\n",
    "  },\n",
    "  {\n",
    "    \"role\": \"function\",\n",
    "    \"name\": \"save_questions\",\n",
    "    \"content\": \"Saved successfully\"\n",
    "  }\n",
    "]\n",
    "conversation.history = conversation_list\n",
    "\n",
    "print(chatbot.chat(conversation))\n"
   ],
   "metadata": {
    "collapsed": false,
    "ExecuteTime": {
     "end_time": "2024-04-06T07:21:13.260344400Z",
     "start_time": "2024-04-06T07:21:12.553574300Z"
    }
   },
   "id": "cb24f8cab3112deb"
  },
  {
   "cell_type": "code",
   "execution_count": null,
   "outputs": [],
   "source": [],
   "metadata": {
    "collapsed": false
   },
   "id": "422a565c5788cea1"
  }
 ],
 "metadata": {
  "kernelspec": {
   "display_name": "Python 3",
   "language": "python",
   "name": "python3"
  },
  "language_info": {
   "codemirror_mode": {
    "name": "ipython",
    "version": 2
   },
   "file_extension": ".py",
   "mimetype": "text/x-python",
   "name": "python",
   "nbconvert_exporter": "python",
   "pygments_lexer": "ipython2",
   "version": "2.7.6"
  }
 },
 "nbformat": 4,
 "nbformat_minor": 5
}
