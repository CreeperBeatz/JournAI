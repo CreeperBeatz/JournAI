{
 "cells": [
  {
   "cell_type": "code",
   "execution_count": null,
   "id": "initial_id",
   "metadata": {
    "collapsed": true
   },
   "outputs": [],
   "source": [
    "import os\n",
    "\n",
    "if \"notebooks\" in os.getcwd():\n",
    "    # Change the current working directory\n",
    "    os.chdir(\"..\")"
   ]
  },
  {
   "cell_type": "markdown",
   "source": [
    "### Test Function Calling"
   ],
   "metadata": {
    "collapsed": false
   },
   "id": "f07fd8a7f8d03cb2"
  },
  {
   "cell_type": "markdown",
   "source": [],
   "metadata": {
    "collapsed": false
   },
   "id": "c5126fcf4d6eb075"
  },
  {
   "cell_type": "code",
   "execution_count": null,
   "outputs": [],
   "source": [
    "from model.conversation import Conversation\n",
    "from modules.chatbot import ChatBot\n",
    "\n",
    "chatbot = ChatBot()\n",
    "conversation = Conversation(chatbot.system_message)\n",
    "\n",
    "conversation.add_turn(\"user\", \"Can you add the following questions as my daily questions: 1. What made me happy, 2. What made me sad\")\n",
    "\n"
   ],
   "metadata": {
    "collapsed": false
   },
   "id": "c705d13efe6588bd"
  }
 ],
 "metadata": {
  "kernelspec": {
   "display_name": "Python 3",
   "language": "python",
   "name": "python3"
  },
  "language_info": {
   "codemirror_mode": {
    "name": "ipython",
    "version": 2
   },
   "file_extension": ".py",
   "mimetype": "text/x-python",
   "name": "python",
   "nbconvert_exporter": "python",
   "pygments_lexer": "ipython2",
   "version": "2.7.6"
  }
 },
 "nbformat": 4,
 "nbformat_minor": 5
}
