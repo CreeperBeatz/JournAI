{
 "cells": [
  {
   "cell_type": "code",
   "execution_count": 1,
   "id": "initial_id",
   "metadata": {
    "collapsed": true,
    "ExecuteTime": {
     "end_time": "2024-04-11T14:13:55.738935400Z",
     "start_time": "2024-04-11T14:13:55.735004400Z"
    }
   },
   "outputs": [],
   "source": [
    "import os\n",
    "\n",
    "if \"notebooks\" in os.getcwd():\n",
    "    # Change the current working directory\n",
    "    os.chdir(\"..\")"
   ]
  },
  {
   "cell_type": "markdown",
   "source": [
    "#### Test Appending information to system messages"
   ],
   "metadata": {
    "collapsed": false
   },
   "id": "b0c9f981691630d4"
  },
  {
   "cell_type": "code",
   "execution_count": 2,
   "outputs": [
    {
     "name": "stdout",
     "output_type": "stream",
     "text": [
      "ChatCompletionMessage(content='Based on our previous conversations, I understand that you have an interest in space exploration, particularly regarding the newest SpaceX launch. Additionally, you have shown an interest in electric cars and their potential to address global warming. This suggests that you are environmentally conscious and have a passion for technology and innovation. Is there anything specific you would like to discuss about yourself or any concerns you have in mind?', role='assistant', function_call=None, tool_calls=None)\n"
     ]
    }
   ],
   "source": [
    "from modules.chatbot import ChatBot\n",
    "from model.conversation import Conversation\n",
    "\n",
    "chatbot = ChatBot(\"dani\")\n",
    "conversation = Conversation(chatbot.system_message)\n",
    "\n",
    "conversation.add_human_message(\"What can you tell me about me?\")\n",
    "conversation.add_system_message(\"Answer the query using this context if necessary. You had the following conversations with the user:\\n\"\n",
    "                                \"10.04.2024 - A conversation about spaceship and cars, talking about the newest SpaceX launch.\\n\"\n",
    "                                \"09.03.2024 - A conversation about the newest electric cars and how they can help with global warming\")\n",
    "\n",
    "response = chatbot.chat(conversation)\n",
    "print(response)\n"
   ],
   "metadata": {
    "collapsed": false,
    "ExecuteTime": {
     "end_time": "2024-04-11T14:13:58.635436100Z",
     "start_time": "2024-04-11T14:13:55.740949800Z"
    }
   },
   "id": "8a43811a7c29150d"
  },
  {
   "cell_type": "code",
   "execution_count": 2,
   "outputs": [],
   "source": [],
   "metadata": {
    "collapsed": false,
    "ExecuteTime": {
     "end_time": "2024-04-11T14:13:58.636219900Z",
     "start_time": "2024-04-11T14:13:58.632919800Z"
    }
   },
   "id": "570182eef5ead9ce"
  }
 ],
 "metadata": {
  "kernelspec": {
   "display_name": "Python 3",
   "language": "python",
   "name": "python3"
  },
  "language_info": {
   "codemirror_mode": {
    "name": "ipython",
    "version": 2
   },
   "file_extension": ".py",
   "mimetype": "text/x-python",
   "name": "python",
   "nbconvert_exporter": "python",
   "pygments_lexer": "ipython2",
   "version": "2.7.6"
  }
 },
 "nbformat": 4,
 "nbformat_minor": 5
}
