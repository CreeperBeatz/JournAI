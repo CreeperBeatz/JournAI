{
 "cells": [
  {
   "cell_type": "code",
   "execution_count": null,
   "id": "initial_id",
   "metadata": {
    "collapsed": true,
    "is_executing": true
   },
   "outputs": [],
   "source": [
    "import os\n",
    "\n",
    "if \"notebooks\" in os.getcwd():\n",
    "    # Change the current working directory\n",
    "    os.chdir(\"..\")"
   ]
  },
  {
   "cell_type": "markdown",
   "source": [
    "### Test Function Calling"
   ],
   "metadata": {
    "collapsed": false
   },
   "id": "f07fd8a7f8d03cb2"
  },
  {
   "cell_type": "markdown",
   "source": [],
   "metadata": {
    "collapsed": false
   },
   "id": "c5126fcf4d6eb075"
  },
  {
   "cell_type": "code",
   "execution_count": null,
   "outputs": [],
   "source": [
    "import json\n",
    "from openai.types.chat import ChatCompletionMessage\n",
    "from model.conversation import Conversation\n",
    "from modules.chatbot import ChatBot\n",
    "import modules.question_manager as ques_manager\n",
    "\n",
    "save_questions_description = {\n",
    "  \"name\": \"save_questions\",\n",
    "  \"description\": \"Set daily journal questions for the user. The questions can be for a Gratitude journal (What are you grateful for?), self-improvement (what charged you with energy, what drained you of energy, what would you like to do more, what would you like to do less), or anything else the user wants as a goal.\",\n",
    "  \"parameters\": {\n",
    "    \"type\": \"object\",\n",
    "    \"properties\": {\n",
    "      \"questions\": {\n",
    "        \"type\": \"array\",\n",
    "        \"items\": {\n",
    "          \"type\": \"string\"\n",
    "        },\n",
    "        \"description\": \"array of strings, representing the questions the user wants to set as their daily questions\"\n",
    "      }\n",
    "    },\n",
    "    \"required\": [\n",
    "      \"questions\"\n",
    "    ]\n",
    "  }\n",
    "}\n",
    "\n",
    "chatbot = ChatBot(function_descriptions=[save_questions_description])\n",
    "conversation = Conversation(chatbot.system_message)\n",
    "\n",
    "conversation.add_turn(\"user\", \"Can you add the following questions as my daily questions: 1. What made me happy, 2. What made me sad\")\n",
    "\n",
    "response: ChatCompletionMessage = chatbot.chat(conversation)\n",
    "if response.function_call:\n",
    "  if response.function_call.name == \"save_questions\":\n",
    "    questions = json.loads(response.function_call.arguments)['questions']\n",
    "    ques_manager.save_questions(\"test\", questions)\n",
    "    print(\"got here\")\n",
    "print(response)"
   ],
   "metadata": {
    "collapsed": false,
    "is_executing": true
   },
   "id": "c705d13efe6588bd"
  },
  {
   "cell_type": "markdown",
   "source": [
    "### Make a title"
   ],
   "metadata": {
    "collapsed": false
   },
   "id": "88de90e1fae038db"
  },
  {
   "cell_type": "code",
   "execution_count": 6,
   "outputs": [],
   "source": [
    "multiline_questions = '\\n * '.join(questions)\n",
    "ai_answer = f\"Do you want to save these as your daily questions?\\n * {multiline_questions}\"\n",
    "conversation.add_turn(\"assistant\", ai_answer)\n",
    "conversation.add_turn(\"user\", \"yes\")\n",
    "conversation.add_turn(\n",
    "    \"function\",\n",
    "    \"Successfully saved.\",\n",
    "    \"save_questions\"\n",
    ")"
   ],
   "metadata": {
    "collapsed": false,
    "ExecuteTime": {
     "end_time": "2024-04-03T06:16:29.150217200Z",
     "start_time": "2024-04-03T06:16:29.121719100Z"
    }
   },
   "id": "34bb1dc60cf1bfa5"
  },
  {
   "cell_type": "code",
   "execution_count": null,
   "outputs": [],
   "source": [
    "title = chatbot.get_title(conversation)\n",
    "print(title)"
   ],
   "metadata": {
    "collapsed": false
   },
   "id": "fd07889a2c231dba"
  },
  {
   "cell_type": "markdown",
   "source": [
    "### Make a summary"
   ],
   "metadata": {
    "collapsed": false
   },
   "id": "dc1f4816b101b849"
  },
  {
   "cell_type": "code",
   "execution_count": null,
   "outputs": [],
   "source": [],
   "metadata": {
    "collapsed": false
   },
   "id": "f9e65cdea90c01be"
  }
 ],
 "metadata": {
  "kernelspec": {
   "display_name": "Python 3",
   "language": "python",
   "name": "python3"
  },
  "language_info": {
   "codemirror_mode": {
    "name": "ipython",
    "version": 2
   },
   "file_extension": ".py",
   "mimetype": "text/x-python",
   "name": "python",
   "nbconvert_exporter": "python",
   "pygments_lexer": "ipython2",
   "version": "2.7.6"
  }
 },
 "nbformat": 4,
 "nbformat_minor": 5
}
